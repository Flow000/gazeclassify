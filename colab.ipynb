{
 "metadata": {
  "language_info": {
   "codemirror_mode": {
    "name": "ipython",
    "version": 3
   },
   "file_extension": ".py",
   "mimetype": "text/x-python",
   "name": "python",
   "nbconvert_exporter": "python",
   "pygments_lexer": "ipython3",
   "version": "3.8.6-final"
  },
  "orig_nbformat": 2,
  "kernelspec": {
   "name": "python38664bitvenvvenv3f6d0cf68b1642b3ab725d2eea59ff50",
   "display_name": "Python 3.8.6 64-bit ('venv': venv)",
   "language": "python"
  }
 },
 "nbformat": 4,
 "nbformat_minor": 2,
 "cells": [
  {
   "source": [
    "# GazeClassify example\n",
    "Run the code cell by cell. Press the ▶ symbol on the first cell to get started."
   ],
   "cell_type": "markdown",
   "metadata": {}
  },
  {
   "cell_type": "code",
   "execution_count": null,
   "metadata": {},
   "outputs": [],
   "source": [
    "# Installing the software\n",
    "%%capture\n",
    "!pip install -i https://test.pypi.org/simple/ gazeclassify==0.0\n",
    "!apt install ffmpeg\n",
    "# Loading the requirements\n",
    "!pip install pixellib\n",
    "!pip install ffmpeg-python"
   ]
  },
  {
   "cell_type": "code",
   "execution_count": null,
   "metadata": {},
   "outputs": [],
   "source": [
    "# Analyze the data\n",
    "import gazeclassify\n",
    "from gazeclassify.core.facade import load_from_pupil_invisible\n",
    "\n",
    "load_from_pupil_invisible(\"gazeclassify/tests/data\")"
   ]
  }
 ]
}