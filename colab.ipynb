{
  "nbformat": 4,
  "nbformat_minor": 0,
  "metadata": {
    "colab": {
      "name": "gazeclassify.ipynb",
      "provenance": [],
      "collapsed_sections": []
    },
    "kernelspec": {
      "name": "python3",
      "display_name": "Python 3"
    },
    "language_info": {
      "name": "python"
    },
    "accelerator": "GPU"
  },
  "cells": [
    {
      "cell_type": "markdown",
      "metadata": {
        "id": "xxNDudjEGMMt"
      },
      "source": [
        "# GazeClassify example\n",
        "Run the code cell by cell. Press the ▶ symbol on the first cell to get started. First, the required packages have to be installed"
      ]
    },
    {
      "cell_type": "code",
      "metadata": {
        "id": "-aTYAQtSF3Fn"
      },
      "source": [
        "!pip install gazeclassify==0.3\n",
        "!apt install ffmpeg "
      ],
      "execution_count": null,
      "outputs": []
    },
    {
      "cell_type": "markdown",
      "metadata": {
        "id": "5LZKEefCGMrz"
      },
      "source": [
        "Analyze sample data. Here, the exported data of a Pupil Invisible eye tracker is analyzed."
      ]
    },
    {
      "cell_type": "code",
      "metadata": {
        "id": "iOWsFnZJGbDc"
      },
      "source": [
        "from gazeclassify.classifier.instance import InstanceSegmentation\n",
        "from gazeclassify.classifier.semantic import SemanticSegmentation\n",
        "from gazeclassify.eyetracker.pupilinvisible import PupilInvisibleLoader\n",
        "from gazeclassify.service.analysis import Analysis\n",
        "\n",
        "analysis = Analysis()\n",
        "\n",
        "PupilInvisibleLoader(analysis).from_trial_folder(\"gazeclassify/example_data/trial\")\n",
        "\n",
        "SemanticSegmentation(analysis).classify(\"Human_Shape\")\n",
        "InstanceSegmentation(analysis).classify(\"Human_Joints\")\n",
        "\n",
        "analysis.save_to_csv()"
      ],
      "execution_count": null,
      "outputs": []
    },
    {
      "cell_type": "markdown",
      "metadata": {
        "id": "dbt5LVLZGeNA"
      },
      "source": [
        "Advantage of using Colab: Access files on a Google Drive. Google Colab makes it possible to load and analyze data directly from a folder."
      ]
    },
    {
      "cell_type": "code",
      "metadata": {
        "id": "BcGFe-5XGgdI"
      },
      "source": [
        "from google.colab import drive, files\n",
        "drive.mount('/content/drive')"
      ],
      "execution_count": null,
      "outputs": []
    }
  ]
}