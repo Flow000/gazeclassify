{
 "metadata": {
  "language_info": {
   "codemirror_mode": {
    "name": "ipython",
    "version": 3
   },
   "file_extension": ".py",
   "mimetype": "text/x-python",
   "name": "python",
   "nbconvert_exporter": "python",
   "pygments_lexer": "ipython3",
   "version": "3.8.6-final"
  },
  "orig_nbformat": 2,
  "kernelspec": {
   "name": "python38664bitvenvvenv3f6d0cf68b1642b3ab725d2eea59ff50",
   "display_name": "Python 3.8.6 64-bit ('venv': venv)",
   "language": "python"
  }
 },
 "nbformat": 4,
 "nbformat_minor": 2,
 "cells": [
  {
   "source": [
    "# GazeClassify example\n",
    "Run the code cell by cell. Press the ▶ symbol on the first cell to get started. First, the required packages have to be installed"
   ],
   "cell_type": "markdown",
   "metadata": {}
  },
  {
   "cell_type": "code",
   "execution_count": null,
   "metadata": {},
   "outputs": [],
   "source": [
    "!pip install gazeclassify\n",
    "!apt install ffmpeg"
   ]
  },
  {
   "source": [
    "Analyze sample data. Here, the exported data of a Pupil Invisible eye tracker is analyzed."
   ],
   "cell_type": "markdown",
   "metadata": {}
  },
  {
   "cell_type": "code",
   "execution_count": null,
   "metadata": {},
   "outputs": [],
   "source": [
    "import gazeclassify\n",
    "from gazeclassify.core.services.analysis import Analysis\n",
    "from gazeclassify.serializer.pupil_data_loader import PupilInvisibleLoader\n",
    "from gazeclassify.core.services.semantic_classifier import SemanticSegmentation\n",
    "from gazeclassify.core.services.instance_classifier import InstanceSegmentation\n",
    "\n",
    "analysis = Analysis()\n",
    "PupilInvisibleLoader(analysis).from_trial_folder(\"gazeclassify/example_data\")\n",
    "\n",
    "InstanceSegmentation(analysis).classify(\"Human_Joints\")\n",
    "SemanticSegmentation(analysis).classify(\"Human_Shape\")\n",
    "\n",
    "analysis.save_to_json()\n",
    "\n",
    "files.download('Human_Shape.mp4')"
   ]
  },
  {
   "source": [
    "Advantage of using Colab: Access files on a Google Drive. Google Colab makes it possible to load and analyze data directly from a folder."
   ],
   "cell_type": "markdown",
   "metadata": {}
  },
  {
   "cell_type": "code",
   "execution_count": null,
   "metadata": {},
   "outputs": [],
   "source": [
    "\n",
    "from google.colab import drive, files\n",
    "drive.mount('/content/drive')"
   ]
  }
 ]
}