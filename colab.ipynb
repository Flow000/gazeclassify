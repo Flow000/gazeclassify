{
 "metadata": {
  "language_info": {
   "codemirror_mode": {
    "name": "ipython",
    "version": 3
   },
   "file_extension": ".py",
   "mimetype": "text/x-python",
   "name": "python",
   "nbconvert_exporter": "python",
   "pygments_lexer": "ipython3",
   "version": "3.8.6-final"
  },
  "orig_nbformat": 2,
  "kernelspec": {
   "name": "python38664bitvenvvenv3f6d0cf68b1642b3ab725d2eea59ff50",
   "display_name": "Python 3.8.6 64-bit ('venv': venv)",
   "language": "python"
  }
 },
 "nbformat": 4,
 "nbformat_minor": 2,
 "cells": [
  {
   "source": [
    "# GazeClassify example\n",
    "Run the code cell by cell. Press the ▶ symbol on the first cell to get started."
   ],
   "cell_type": "markdown",
   "metadata": {}
  },
  {
   "cell_type": "code",
   "execution_count": null,
   "metadata": {},
   "outputs": [],
   "source": [
    "# Installing the software\n",
    "%%capture\n",
    "!pip install -i https://test.pypi.org/simple/ gazeclassify==0.1\n",
    "!apt install ffmpeg\n",
    "# Loading the requirements\n",
    "!pip install pixellib\n",
    "!pip install tensorflow==2.4.1\n",
    "!pip install ffmpeg-python\n",
    "!wget --quiet https://github.com/matterport/Mask_RCNN/releases/download/v2.0/mask_rcnn_coco.h5"
   ]
  },
  {
   "cell_type": "code",
   "execution_count": null,
   "metadata": {},
   "outputs": [],
   "source": [
    "# Access files on a Google Drive\n",
    "from google.colab import drive, files\n",
    "drive.mount('/content/drive')"
   ]
  },
  {
   "cell_type": "code",
   "execution_count": null,
   "metadata": {},
   "outputs": [],
   "source": [
    "# Analyze the data in the folder\n",
    "import gazeclassify\n",
    "from gazeclassify.facade import load_from_pupil_invisible, segment_with_pixellib\n",
    "import cv2\n",
    "\n",
    "load_from_pupil_invisible(\"drive/MyDrive/folder_with_exported_video\")\n",
    "\n",
    "segment_with_pixellib()\n",
    "\n",
    "files.download('output.mp4')"
   ]
  }
 ]
}